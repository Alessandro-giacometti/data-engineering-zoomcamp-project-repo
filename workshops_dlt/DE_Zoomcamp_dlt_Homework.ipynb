{
  "cells": [
    {
      "cell_type": "markdown",
      "metadata": {
        "id": "EFPjhhB5VXd9"
      },
      "source": [
        "# **Workshop \"Data Ingestion with dlt\": Homework**\n"
      ]
    },
    {
      "cell_type": "markdown",
      "metadata": {
        "id": "a0V54cILVjfy"
      },
      "source": [
        "---\n",
        "\n",
        "## **Dataset & API**\n",
        "\n",
        "We’ll use **NYC Taxi data** via the same custom API from the workshop:\n",
        "\n",
        "🔹 **Base API URL:**  \n",
        "```\n",
        "https://us-central1-dlthub-analytics.cloudfunctions.net/data_engineering_zoomcamp_api\n",
        "```\n",
        "🔹 **Data format:** Paginated JSON (1,000 records per page).  \n",
        "🔹 **API Pagination:** Stop when an empty page is returned.  "
      ]
    },
    {
      "cell_type": "markdown",
      "metadata": {
        "id": "pNq2oqruVtiQ"
      },
      "source": [
        "## **Question 1: dlt Version**"
      ]
    },
    {
      "cell_type": "markdown",
      "metadata": {},
      "source": [
        "Before installing dlt, check which Python environment is in use:"
      ]
    },
    {
      "cell_type": "code",
      "execution_count": 7,
      "metadata": {},
      "outputs": [
        {
          "name": "stdout",
          "output_type": "stream",
          "text": [
            "/home/alessandro/GIT/.venv/bin/python\n"
          ]
        }
      ],
      "source": [
        "import sys\n",
        "print(sys.executable)"
      ]
    },
    {
      "cell_type": "markdown",
      "metadata": {},
      "source": [
        "1. **Install dlt**:"
      ]
    },
    {
      "cell_type": "code",
      "execution_count": 3,
      "metadata": {
        "id": "9yTfzUkZVwYi"
      },
      "outputs": [
        {
          "name": "stdout",
          "output_type": "stream",
          "text": [
            "Collecting dlt[duckdb]\n",
            "  Using cached dlt-1.7.0-py3-none-any.whl.metadata (11 kB)\n",
            "Collecting PyYAML>=5.4.1 (from dlt[duckdb])\n",
            "  Using cached PyYAML-6.0.2-cp312-cp312-manylinux_2_17_x86_64.manylinux2014_x86_64.whl.metadata (2.1 kB)\n",
            "Collecting click>=7.1 (from dlt[duckdb])\n",
            "  Using cached click-8.1.8-py3-none-any.whl.metadata (2.3 kB)\n",
            "Collecting duckdb>=0.9 (from dlt[duckdb])\n",
            "  Using cached duckdb-1.2.0-cp312-cp312-manylinux_2_17_x86_64.manylinux2014_x86_64.whl.metadata (966 bytes)\n",
            "Collecting fsspec>=2022.4.0 (from dlt[duckdb])\n",
            "  Using cached fsspec-2025.2.0-py3-none-any.whl.metadata (11 kB)\n",
            "Collecting gitpython>=3.1.29 (from dlt[duckdb])\n",
            "  Using cached GitPython-3.1.44-py3-none-any.whl.metadata (13 kB)\n",
            "Collecting giturlparse>=0.10.0 (from dlt[duckdb])\n",
            "  Using cached giturlparse-0.12.0-py2.py3-none-any.whl.metadata (4.5 kB)\n",
            "Collecting hexbytes>=0.2.2 (from dlt[duckdb])\n",
            "  Using cached hexbytes-1.3.0-py3-none-any.whl.metadata (3.3 kB)\n",
            "Collecting humanize>=4.4.0 (from dlt[duckdb])\n",
            "  Using cached humanize-4.12.1-py3-none-any.whl.metadata (7.8 kB)\n",
            "Collecting jsonpath-ng>=1.5.3 (from dlt[duckdb])\n",
            "  Using cached jsonpath_ng-1.7.0-py3-none-any.whl.metadata (18 kB)\n",
            "Collecting makefun>=1.15.0 (from dlt[duckdb])\n",
            "  Using cached makefun-1.15.6-py2.py3-none-any.whl.metadata (3.2 kB)\n",
            "Collecting orjson!=3.10.1,!=3.9.11,!=3.9.12,!=3.9.13,!=3.9.14,<4,>=3.6.7 (from dlt[duckdb])\n",
            "  Using cached orjson-3.10.15-cp312-cp312-manylinux_2_17_x86_64.manylinux2014_x86_64.whl.metadata (41 kB)\n",
            "Requirement already satisfied: packaging>=21.1 in /home/alessandro/GIT/.venv/lib/python3.12/site-packages (from dlt[duckdb]) (24.2)\n",
            "Collecting pathvalidate>=2.5.2 (from dlt[duckdb])\n",
            "  Using cached pathvalidate-3.2.3-py3-none-any.whl.metadata (12 kB)\n",
            "Collecting pendulum>=2.1.2 (from dlt[duckdb])\n",
            "  Using cached pendulum-3.0.0-cp312-cp312-manylinux_2_17_x86_64.manylinux2014_x86_64.whl.metadata (6.9 kB)\n",
            "Collecting pluggy>=1.3.0 (from dlt[duckdb])\n",
            "  Using cached pluggy-1.5.0-py3-none-any.whl.metadata (4.8 kB)\n",
            "Collecting pytz>=2022.6 (from dlt[duckdb])\n",
            "  Using cached pytz-2025.1-py2.py3-none-any.whl.metadata (22 kB)\n",
            "Collecting requests>=2.26.0 (from dlt[duckdb])\n",
            "  Using cached requests-2.32.3-py3-none-any.whl.metadata (4.6 kB)\n",
            "Collecting requirements-parser>=0.5.0 (from dlt[duckdb])\n",
            "  Using cached requirements_parser-0.11.0-py3-none-any.whl.metadata (4.7 kB)\n",
            "Collecting rich-argparse<2.0.0,>=1.6.0 (from dlt[duckdb])\n",
            "  Using cached rich_argparse-1.7.0-py3-none-any.whl.metadata (14 kB)\n",
            "Collecting semver>=3.0.0 (from dlt[duckdb])\n",
            "  Using cached semver-3.0.4-py3-none-any.whl.metadata (6.8 kB)\n",
            "Collecting setuptools>=65.6.0 (from dlt[duckdb])\n",
            "  Using cached setuptools-75.8.0-py3-none-any.whl.metadata (6.7 kB)\n",
            "Collecting simplejson>=3.17.5 (from dlt[duckdb])\n",
            "  Using cached simplejson-3.20.1-cp312-cp312-manylinux_2_5_x86_64.manylinux1_x86_64.manylinux_2_17_x86_64.manylinux2014_x86_64.whl.metadata (3.2 kB)\n",
            "Collecting tenacity>=8.0.2 (from dlt[duckdb])\n",
            "  Using cached tenacity-9.0.0-py3-none-any.whl.metadata (1.2 kB)\n",
            "Collecting tomlkit>=0.11.3 (from dlt[duckdb])\n",
            "  Using cached tomlkit-0.13.2-py3-none-any.whl.metadata (2.7 kB)\n",
            "Collecting typing-extensions>=4.8.0 (from dlt[duckdb])\n",
            "  Using cached typing_extensions-4.12.2-py3-none-any.whl.metadata (3.0 kB)\n",
            "Collecting tzdata>=2022.1 (from dlt[duckdb])\n",
            "  Using cached tzdata-2025.1-py2.py3-none-any.whl.metadata (1.4 kB)\n",
            "Collecting gitdb<5,>=4.0.1 (from gitpython>=3.1.29->dlt[duckdb])\n",
            "  Using cached gitdb-4.0.12-py3-none-any.whl.metadata (1.2 kB)\n",
            "Collecting ply (from jsonpath-ng>=1.5.3->dlt[duckdb])\n",
            "  Using cached ply-3.11-py2.py3-none-any.whl.metadata (844 bytes)\n",
            "Requirement already satisfied: python-dateutil>=2.6 in /home/alessandro/GIT/.venv/lib/python3.12/site-packages (from pendulum>=2.1.2->dlt[duckdb]) (2.9.0.post0)\n",
            "Collecting time-machine>=2.6.0 (from pendulum>=2.1.2->dlt[duckdb])\n",
            "  Using cached time_machine-2.16.0-cp312-cp312-manylinux_2_5_x86_64.manylinux1_x86_64.manylinux_2_17_x86_64.manylinux2014_x86_64.whl.metadata (21 kB)\n",
            "Collecting charset-normalizer<4,>=2 (from requests>=2.26.0->dlt[duckdb])\n",
            "  Using cached charset_normalizer-3.4.1-cp312-cp312-manylinux_2_17_x86_64.manylinux2014_x86_64.whl.metadata (35 kB)\n",
            "Collecting idna<4,>=2.5 (from requests>=2.26.0->dlt[duckdb])\n",
            "  Using cached idna-3.10-py3-none-any.whl.metadata (10 kB)\n",
            "Collecting urllib3<3,>=1.21.1 (from requests>=2.26.0->dlt[duckdb])\n",
            "  Using cached urllib3-2.3.0-py3-none-any.whl.metadata (6.5 kB)\n",
            "Collecting certifi>=2017.4.17 (from requests>=2.26.0->dlt[duckdb])\n",
            "  Using cached certifi-2025.1.31-py3-none-any.whl.metadata (2.5 kB)\n",
            "Collecting types-setuptools>=69.1.0 (from requirements-parser>=0.5.0->dlt[duckdb])\n",
            "  Using cached types_setuptools-75.8.0.20250210-py3-none-any.whl.metadata (2.2 kB)\n",
            "Collecting rich>=11.0.0 (from rich-argparse<2.0.0,>=1.6.0->dlt[duckdb])\n",
            "  Using cached rich-13.9.4-py3-none-any.whl.metadata (18 kB)\n",
            "Collecting smmap<6,>=3.0.1 (from gitdb<5,>=4.0.1->gitpython>=3.1.29->dlt[duckdb])\n",
            "  Using cached smmap-5.0.2-py3-none-any.whl.metadata (4.3 kB)\n",
            "Requirement already satisfied: six>=1.5 in /home/alessandro/GIT/.venv/lib/python3.12/site-packages (from python-dateutil>=2.6->pendulum>=2.1.2->dlt[duckdb]) (1.17.0)\n",
            "Collecting markdown-it-py>=2.2.0 (from rich>=11.0.0->rich-argparse<2.0.0,>=1.6.0->dlt[duckdb])\n",
            "  Using cached markdown_it_py-3.0.0-py3-none-any.whl.metadata (6.9 kB)\n",
            "Requirement already satisfied: pygments<3.0.0,>=2.13.0 in /home/alessandro/GIT/.venv/lib/python3.12/site-packages (from rich>=11.0.0->rich-argparse<2.0.0,>=1.6.0->dlt[duckdb]) (2.19.1)\n",
            "Collecting mdurl~=0.1 (from markdown-it-py>=2.2.0->rich>=11.0.0->rich-argparse<2.0.0,>=1.6.0->dlt[duckdb])\n",
            "  Using cached mdurl-0.1.2-py3-none-any.whl.metadata (1.6 kB)\n",
            "Using cached click-8.1.8-py3-none-any.whl (98 kB)\n",
            "Using cached duckdb-1.2.0-cp312-cp312-manylinux_2_17_x86_64.manylinux2014_x86_64.whl (20.2 MB)\n",
            "Using cached fsspec-2025.2.0-py3-none-any.whl (184 kB)\n",
            "Using cached GitPython-3.1.44-py3-none-any.whl (207 kB)\n",
            "Using cached giturlparse-0.12.0-py2.py3-none-any.whl (15 kB)\n",
            "Using cached hexbytes-1.3.0-py3-none-any.whl (4.9 kB)\n",
            "Using cached humanize-4.12.1-py3-none-any.whl (127 kB)\n",
            "Using cached jsonpath_ng-1.7.0-py3-none-any.whl (30 kB)\n",
            "Using cached makefun-1.15.6-py2.py3-none-any.whl (22 kB)\n",
            "Using cached orjson-3.10.15-cp312-cp312-manylinux_2_17_x86_64.manylinux2014_x86_64.whl (130 kB)\n",
            "Using cached pathvalidate-3.2.3-py3-none-any.whl (24 kB)\n",
            "Using cached pendulum-3.0.0-cp312-cp312-manylinux_2_17_x86_64.manylinux2014_x86_64.whl (384 kB)\n",
            "Using cached pluggy-1.5.0-py3-none-any.whl (20 kB)\n",
            "Using cached pytz-2025.1-py2.py3-none-any.whl (507 kB)\n",
            "Using cached PyYAML-6.0.2-cp312-cp312-manylinux_2_17_x86_64.manylinux2014_x86_64.whl (767 kB)\n",
            "Using cached requests-2.32.3-py3-none-any.whl (64 kB)\n",
            "Using cached requirements_parser-0.11.0-py3-none-any.whl (14 kB)\n",
            "Using cached rich_argparse-1.7.0-py3-none-any.whl (25 kB)\n",
            "Using cached semver-3.0.4-py3-none-any.whl (17 kB)\n",
            "Using cached setuptools-75.8.0-py3-none-any.whl (1.2 MB)\n",
            "Using cached simplejson-3.20.1-cp312-cp312-manylinux_2_5_x86_64.manylinux1_x86_64.manylinux_2_17_x86_64.manylinux2014_x86_64.whl (152 kB)\n",
            "Using cached tenacity-9.0.0-py3-none-any.whl (28 kB)\n",
            "Using cached tomlkit-0.13.2-py3-none-any.whl (37 kB)\n",
            "Using cached typing_extensions-4.12.2-py3-none-any.whl (37 kB)\n",
            "Using cached tzdata-2025.1-py2.py3-none-any.whl (346 kB)\n",
            "Using cached dlt-1.7.0-py3-none-any.whl (892 kB)\n",
            "Using cached certifi-2025.1.31-py3-none-any.whl (166 kB)\n",
            "Using cached charset_normalizer-3.4.1-cp312-cp312-manylinux_2_17_x86_64.manylinux2014_x86_64.whl (145 kB)\n",
            "Using cached gitdb-4.0.12-py3-none-any.whl (62 kB)\n",
            "Using cached idna-3.10-py3-none-any.whl (70 kB)\n",
            "Using cached rich-13.9.4-py3-none-any.whl (242 kB)\n",
            "Using cached time_machine-2.16.0-cp312-cp312-manylinux_2_5_x86_64.manylinux1_x86_64.manylinux_2_17_x86_64.manylinux2014_x86_64.whl (33 kB)\n",
            "Using cached types_setuptools-75.8.0.20250210-py3-none-any.whl (71 kB)\n",
            "Using cached urllib3-2.3.0-py3-none-any.whl (128 kB)\n",
            "Using cached ply-3.11-py2.py3-none-any.whl (49 kB)\n",
            "Using cached markdown_it_py-3.0.0-py3-none-any.whl (87 kB)\n",
            "Using cached smmap-5.0.2-py3-none-any.whl (24 kB)\n",
            "Using cached mdurl-0.1.2-py3-none-any.whl (10.0 kB)\n",
            "Installing collected packages: pytz, ply, makefun, urllib3, tzdata, typing-extensions, types-setuptools, tomlkit, tenacity, smmap, simplejson, setuptools, semver, PyYAML, pluggy, pathvalidate, orjson, mdurl, jsonpath-ng, idna, humanize, hexbytes, giturlparse, fsspec, duckdb, click, charset-normalizer, certifi, time-machine, requirements-parser, requests, markdown-it-py, gitdb, rich, pendulum, gitpython, rich-argparse, dlt\n",
            "Successfully installed PyYAML-6.0.2 certifi-2025.1.31 charset-normalizer-3.4.1 click-8.1.8 dlt-1.7.0 duckdb-1.2.0 fsspec-2025.2.0 gitdb-4.0.12 gitpython-3.1.44 giturlparse-0.12.0 hexbytes-1.3.0 humanize-4.12.1 idna-3.10 jsonpath-ng-1.7.0 makefun-1.15.6 markdown-it-py-3.0.0 mdurl-0.1.2 orjson-3.10.15 pathvalidate-3.2.3 pendulum-3.0.0 pluggy-1.5.0 ply-3.11 pytz-2025.1 requests-2.32.3 requirements-parser-0.11.0 rich-13.9.4 rich-argparse-1.7.0 semver-3.0.4 setuptools-75.8.0 simplejson-3.20.1 smmap-5.0.2 tenacity-9.0.0 time-machine-2.16.0 tomlkit-0.13.2 types-setuptools-75.8.0.20250210 typing-extensions-4.12.2 tzdata-2025.1 urllib3-2.3.0\n"
          ]
        }
      ],
      "source": [
        " !pip install dlt[duckdb]"
      ]
    },
    {
      "cell_type": "markdown",
      "metadata": {
        "id": "Xv9gkwKIV3wM"
      },
      "source": [
        "> Or choose a different bracket—`bigquery`, `redshift`, etc.—if you prefer another primary destination. For this assignment, we’ll still do a quick test with DuckDB.\n",
        "\n",
        "2. **Check** the version:\n"
      ]
    },
    {
      "cell_type": "code",
      "execution_count": 5,
      "metadata": {
        "id": "scFCGjeMWCkI"
      },
      "outputs": [
        {
          "name": "stdout",
          "output_type": "stream",
          "text": [
            "\u001b[39mdlt 1.7.0\u001b[0m\n"
          ]
        }
      ],
      "source": [
        "!dlt --version"
      ]
    },
    {
      "cell_type": "markdown",
      "metadata": {
        "id": "Z-YrUxR8WFNw"
      },
      "source": [
        "or:"
      ]
    },
    {
      "cell_type": "code",
      "execution_count": 6,
      "metadata": {
        "id": "SSm1xDzPV5dO"
      },
      "outputs": [
        {
          "name": "stdout",
          "output_type": "stream",
          "text": [
            "dlt version: 1.7.0\n"
          ]
        }
      ],
      "source": [
        "import dlt\n",
        "print(\"dlt version:\", dlt.__version__)"
      ]
    },
    {
      "cell_type": "markdown",
      "metadata": {
        "id": "f0Z3F5s4WaXO"
      },
      "source": [
        "**Answer**:  \n",
        "- Provide the **version** you see in the output."
      ]
    },
    {
      "cell_type": "markdown",
      "metadata": {},
      "source": [
        "## **Install DuckDB**"
      ]
    },
    {
      "cell_type": "markdown",
      "metadata": {},
      "source": [
        "Before proceeding, install DuckDB in the Python environment, if not already installed:"
      ]
    },
    {
      "cell_type": "code",
      "execution_count": 8,
      "metadata": {},
      "outputs": [
        {
          "name": "stdout",
          "output_type": "stream",
          "text": [
            "Requirement already satisfied: duckdb in /home/alessandro/GIT/.venv/lib/python3.12/site-packages (1.2.0)\n"
          ]
        }
      ],
      "source": [
        " !pip install duckdb"
      ]
    },
    {
      "cell_type": "markdown",
      "metadata": {
        "id": "M02IXn-GWdBO"
      },
      "source": [
        "## **Question 2: Define & Run the Pipeline (NYC Taxi API)**\n",
        "\n",
        "Use dlt to extract all pages of data from the API.\n",
        "\n",
        "Steps:\n",
        "\n",
        "1️⃣ Use the `@dlt.resource` decorator to define the API source.\n",
        "\n",
        "2️⃣ Implement automatic pagination using dlt's built-in REST client.\n",
        "\n",
        "3️⃣ Load the extracted data into DuckDB for querying.\n",
        "\n"
      ]
    },
    {
      "cell_type": "code",
      "execution_count": 9,
      "metadata": {
        "id": "8ChhfBNUWshT"
      },
      "outputs": [],
      "source": [
        "import dlt\n",
        "from dlt.sources.helpers.rest_client import RESTClient\n",
        "from dlt.sources.helpers.rest_client.paginators import PageNumberPaginator"
      ]
    },
    {
      "cell_type": "code",
      "execution_count": null,
      "metadata": {},
      "outputs": [],
      "source": [
        "# your code is here"
      ]
    },
    {
      "cell_type": "code",
      "execution_count": null,
      "metadata": {},
      "outputs": [],
      "source": [
        "pipeline = dlt.pipeline(\n",
        "    pipeline_name=\"ny_taxi_pipeline\",\n",
        "    destination=\"duckdb\",\n",
        "    dataset_name=\"ny_taxi_data\"\n",
        ")"
      ]
    },
    {
      "cell_type": "markdown",
      "metadata": {
        "id": "Y64a4o7qXGzH"
      },
      "source": [
        "Load the data into DuckDB to test:\n",
        "\n",
        "\n",
        "\n",
        "\n"
      ]
    },
    {
      "cell_type": "code",
      "execution_count": null,
      "metadata": {
        "id": "emXcAQN2XIYk"
      },
      "outputs": [],
      "source": [
        "load_info = pipeline.run(ny_taxi)\n",
        "print(load_info)"
      ]
    },
    {
      "cell_type": "markdown",
      "metadata": {
        "id": "VfFtRuJLeTJZ"
      },
      "source": [
        "Start a connection to your database using native `duckdb` connection and look what tables were generated:"
      ]
    },
    {
      "cell_type": "code",
      "execution_count": null,
      "metadata": {
        "id": "bmOjtD-Xeq3K"
      },
      "outputs": [],
      "source": [
        "import duckdb\n",
        "from google.colab import data_table\n",
        "data_table.enable_dataframe_formatter()\n",
        "\n",
        "# A database '<pipeline_name>.duckdb' was created in working directory so just connect to it\n",
        "\n",
        "# Connect to the DuckDB database\n",
        "conn = duckdb.connect(f\"{pipeline.pipeline_name}.duckdb\")\n",
        "\n",
        "# Set search path to the dataset\n",
        "conn.sql(f\"SET search_path = '{pipeline.dataset_name}'\")\n",
        "\n",
        "# Describe the dataset\n",
        "conn.sql(\"DESCRIBE\").df()"
      ]
    },
    {
      "cell_type": "markdown",
      "metadata": {
        "id": "lmfI_zjoeIrf"
      },
      "source": [
        "**Answer:**\n",
        "* How many tables were created?"
      ]
    },
    {
      "cell_type": "markdown",
      "metadata": {
        "id": "LLuS9O63f-fv"
      },
      "source": [
        "## **Question 3: Explore the loaded data**"
      ]
    },
    {
      "cell_type": "markdown",
      "metadata": {
        "id": "d_cWQaQjXLn8"
      },
      "source": [
        "Inspect the table `ride`:\n"
      ]
    },
    {
      "cell_type": "code",
      "execution_count": null,
      "metadata": {
        "id": "lvpYmnhkXKLZ"
      },
      "outputs": [],
      "source": [
        "df = pipeline.dataset(dataset_type=\"default\").rides.df()\n",
        "df"
      ]
    },
    {
      "cell_type": "markdown",
      "metadata": {
        "id": "OZEvd9TcgEst"
      },
      "source": [
        "**Answer:**\n",
        "* What is the total number of records extracted?"
      ]
    },
    {
      "cell_type": "markdown",
      "metadata": {
        "id": "joyAEvNae6Ds"
      },
      "source": [
        "## **Question 4: Trip Duration Analysis**\n",
        "\n",
        "Run the SQL query below to:\n",
        "\n",
        "* Calculate the average trip duration in minutes."
      ]
    },
    {
      "cell_type": "code",
      "execution_count": null,
      "metadata": {
        "id": "BtsSxtFfXQs3"
      },
      "outputs": [],
      "source": [
        "with pipeline.sql_client() as client:\n",
        "    res = client.execute_sql(\n",
        "            \"\"\"\n",
        "            SELECT\n",
        "            AVG(date_diff('minute', trip_pickup_date_time, trip_dropoff_date_time))\n",
        "            FROM rides;\n",
        "            \"\"\"\n",
        "        )\n",
        "    # Prints column values of the first row\n",
        "    print(res)"
      ]
    },
    {
      "cell_type": "markdown",
      "metadata": {
        "id": "YTIydWT0dTf9"
      },
      "source": [
        "**Answer:**\n",
        "* What is the average trip duration?"
      ]
    },
    {
      "cell_type": "markdown",
      "metadata": {
        "id": "kEFQZKB0gkCI"
      },
      "source": [
        "## **Submitting the solutions**\n",
        "\n",
        "* Form for submitting: TBA\n",
        "\n",
        "\n"
      ]
    },
    {
      "cell_type": "markdown",
      "metadata": {
        "id": "cPrgwE3ziNan"
      },
      "source": [
        "## **Solution**\n",
        "\n",
        "We will publish the solution here after deadline."
      ]
    }
  ],
  "metadata": {
    "colab": {
      "provenance": [],
      "toc_visible": true
    },
    "kernelspec": {
      "display_name": ".venv",
      "language": "python",
      "name": "python3"
    },
    "language_info": {
      "codemirror_mode": {
        "name": "ipython",
        "version": 3
      },
      "file_extension": ".py",
      "mimetype": "text/x-python",
      "name": "python",
      "nbconvert_exporter": "python",
      "pygments_lexer": "ipython3",
      "version": "3.12.3"
    }
  },
  "nbformat": 4,
  "nbformat_minor": 0
}
